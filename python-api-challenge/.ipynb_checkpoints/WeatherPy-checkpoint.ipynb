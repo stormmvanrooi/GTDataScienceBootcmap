{
 "cells": [
  {
   "cell_type": "markdown",
   "metadata": {},
   "source": [
    "# WeatherPy\n",
    "----\n",
    "\n",
    "#### Note\n",
    "* Instructions have been included for each segment. You do not have to follow them exactly, but they are included to help you think through the steps."
   ]
  },
  {
   "cell_type": "code",
   "execution_count": 1,
   "metadata": {
    "scrolled": true
   },
   "outputs": [],
   "source": [
    "# Dependencies and Setup\n",
    "import matplotlib.pyplot as plt\n",
    "import pandas as pd\n",
    "import numpy as np\n",
    "import requests\n",
    "import time\n",
    "from scipy.stats import linregress\n",
    "import json\n",
    "\n",
    "# Import API key\n",
    "from api_keys import weather_api_key\n",
    "\n",
    "# Incorporated citipy to determine city based on latitude and longitude\n",
    "from citipy import citipy\n",
    "\n",
    "# Output File (CSV)\n",
    "output_data_file = \"output_data/cities.csv\"\n",
    "\n",
    "# Range of latitudes and longitudes\n",
    "lat_range = (-90, 90)\n",
    "lng_range = (-180, 180)\n",
    "\n",
    "# define count of pass throughs\n",
    "count_one = 0\n",
    "set_one = 1"
   ]
  },
  {
   "cell_type": "markdown",
   "metadata": {},
   "source": [
    "## Generate Cities List"
   ]
  },
  {
   "cell_type": "code",
   "execution_count": 2,
   "metadata": {},
   "outputs": [
    {
     "data": {
      "text/plain": [
       "623"
      ]
     },
     "execution_count": 2,
     "metadata": {},
     "output_type": "execute_result"
    }
   ],
   "source": [
    "# List for holding lat_lngs and cities\n",
    "lat_lngs = []\n",
    "cities = []\n",
    "\n",
    "# Create a set of random lat and lng combinations\n",
    "lats = np.random.uniform(lat_range[0], lat_range[1], size=1500)\n",
    "lngs = np.random.uniform(lng_range[0], lng_range[1], size=1500)\n",
    "lat_lngs = zip(lats, lngs)\n",
    "\n",
    "# Identify nearest city for each lat, lng combination\n",
    "for lat_lng in lat_lngs:\n",
    "    city = citipy.nearest_city(lat_lng[0], lat_lng[1]).city_name\n",
    "    \n",
    "    # If the city is unique, then add it to a our cities list\n",
    "    if city not in cities:\n",
    "        cities.append(city)\n",
    "\n",
    "# Print the city count to confirm sufficient count\n",
    "len(cities)"
   ]
  },
  {
   "cell_type": "code",
   "execution_count": 3,
   "metadata": {},
   "outputs": [
    {
     "name": "stdout",
     "output_type": "stream",
     "text": [
      "['guerrero negro', 'atuona', 'mataura', 'nicosia', 'okato', 'saleaula', 'hami', 'sioux lookout', 'soe', 'hofn', 'kozlovo', 'atar', 'macau', 'port hardy', 'beringovskiy', 'vila velha', 'ushuaia', 'lasa', 'chokurdakh', 'kitgum', 'kieta', 'butaritari', 'klaksvik', 'ponta do sol', 'alofi', 'bathsheba', 'inirida', 'liberal', 'kapaa', 'hobart', 'qaanaaq', 'esperance', 'taolanaro', 'rikitea', 'punta arenas', 'karata', 'vaini', 'amderma', 'barrow', 'palmer', 'thompson', 'vaitupu', 'karratha', 'busselton', 'dikson', 'nikolskoye', 'avarua', 'chimore', 'husavik', 'kambi', 'bluff', 'constitucion', 'naryan-mar', 'abiramam', 'aden', 'tuktoyaktuk', 'hilo', 'ahipara', 'cherskiy', 'yarada', 'albany', 'ndende', 'mys shmidta', 'mehamn', 'hermanus', 'komsomolskiy', 'skibbereen', 'asau', 'teknaf', 'luwuk', 'cape town', 'sambava', 'hearst', 'saskylakh', 'ambodifototra', 'villa del rosario', 'kemijarvi', 'saldanha', 'port lincoln', 'puerto palomas', 'nizhneyansk', 'tura', 'economy', 'egvekinot', 'ouallam', 'saint george', 'laguna', 'teya', 'bengkulu', 'belushya guba', 'chagda', 'ilebo', 'port-cartier', 'mao', 'northam', 'baltay', 'ancud', 'tsihombe', 'tsaratanana', 'arraial do cabo', 'bredasdorp', 'chirongui', 'kajaani', 'mokolo', 'yellowknife', 'najran', 'edgewater', 'santa isabel do rio negro', 'norman wells', 'illoqqortoormiut', 'novikovo', 'linxia', 'kavieng', 'airai', 'karamay', 'grand river south east', 'bandarbeyla', 'north myrtle beach', 'alto araguaia', 'hovd', 'narsaq', 'khatanga', 'bethel', 'hithadhoo', 'sinnamary', 'hualmay', 'gillette', 'gananoque', 'tondano', 'canmore', 'lavrentiya', 'mattru', 'palabuhanratu', 'bay roberts', 'tibiri', 'berlevag', 'simao', 'mount isa', 'zalantun', 'general pico', 'champerico', 'attawapiskat', 'moengo', 'monrovia', 'cairns', 'casimiro de abreu', 'port alfred', 'mangan', 'kahului', 'sedan', 'padang', 'kismayo', 'kamenka', 'abu dhabi', 'mata', 'kalanguy', 'tasiilaq', 'koslan', 'kita', 'evensk', 'port elizabeth', 'pisco', 'lazaro cardenas', 'axim', 'halmstad', 'sur', 'puerto el triunfo', 'tahta', 'ribeira grande', 'sao filipe', 'georgetown', 'torbay', 'vanimo', 'nioki', 'kodiak', 'clyde river', 'tamiahua', 'freeport', 'cidreira', 'margate', 'umzimvubu', 'bitam', 'kalaswala', 'fortuna', 'karaul', 'seal beach', 'borzya', 'otjimbingwe', 'pevek', 'coron', 'samusu', 'chenzhou', 'shenjiamen', 'tadine', 'uvat', 'svetlyy', 'upernavik', 'souillac', 'shambu', 'iqaluit', 'jamestown', 'bolungarvik', 'sentyabrskiy', 'anadyr', 'jiddah', 'isla vista', 'cedral', 'comodoro rivadavia', 'cassilandia', 'eskasem', 'luangwa', 'east london', 'chuy', 'ola', 'balkanabat', 'tsiroanomandidy', 'walvis bay', 'deputatskiy', 'port blair', 'luanda', 'kaeo', 'castro', 'cayenne', 'sam roi yot', 'itarema', 'puerto ayora', 'mahebourg', 'hailar', 'longyearbyen', 'kruisfontein', 'olesno', 'ormond beach', 'manavalakurichi', 'camabatela', 'omalur', 'dalvik', 'khani', 'lakhdenpokhya', 'mount gambier', 'teguldet', 'ozernovskiy', 'winslow', 'vardo', 'havre-saint-pierre', 'lagoa', 'ust-kamchatsk', 'tautira', 'bowen', 'victoria', 'san jeronimo', 'faanui', 'iesolo', 'maryville', 'moree', 'aksu', 'umm lajj', 'new norfolk', 'atyrau', 'kaitangata', 'leningradskiy', 'sandnessjoen', 'hasaki', 'dunhua', 'washington', 'the pas', 'chitose', 'pangnirtung', 'olinda', 'roquetas de mar', 'katsuura', 'kupang', 'brae', 'sept-iles', 'shelburne', 'zhoucheng', 'barentsburg', 'tongren', 'vauvert', 'avera', 'flinders', 'quebo', 'muli', 'manaure', 'dancheng', 'mercer island', 'yabelo', 'irbit', 'praia da vitoria', 'aklavik', 'grand centre', 'urucara', 'batemans bay', 'roma', 'dingle', 'ilulissat', 'rosarito', 'grindavik', 'bubaque', 'santa cruz', 'kuala terengganu', 'kargasok', 'pringsewu', 'toyooka', 'lingao', 'vostok', 'leh', 'sao miguel do araguaia', 'dingzhou', 'sao joaquim', 'ornskoldsvik', 'saint anthony', 'martapura', 'jinchang', 'alice springs', 'cape canaveral', 'sibolga', 'grand gaube', 'kaseda', 'coihaique', 'lompoc', 'trelew', 'ocampo', 'katherine', 'lahan', 'ulety', 'kaniv', 'miraflores', 'richards bay', 'nanortalik', 'samarai', 'taldan', 'iberia', 'tucuman', 'kushiro', 'poum', 'westport', 'saint-georges', 'gamba', 'carnarvon', 'dudinka', 'la romana', 'almaty', 'fort nelson', 'adrar', 'malabo', 'belyy yar', 'gizo', 'lakes entrance', 'malatya', 'kostomuksha', 'kapit', 'sergeyevka', 'dauriya', 'dongsheng', 'glebychevo', 'boca do acre', 'yulara', 'dwarka', 'saint-philippe', 'eldorado', 'cascais', 'banda aceh', 'fare', 'provideniya', 'kishi', 'tomakomai', 'tarudant', 'roald', 'turukhansk', 'zugdidi', 'phan rang', 'general roca', 'las palmas', 'itapecerica', 'usevya', 'geelong', 'eyl', 'san patricio', 'san carlos de bariloche', 'lebu', 'tiksi', 'voh', 'makakilo city', 'meyungs', 'jomalig', 'tapaua', 'sangar', 'smolenka', 'west plains', 'kloulklubed', 'kharp', 'srednekolymsk', 'jiroft', 'yerbogachen', 'jizan', 'kununurra', 'chimbote', 'gollere', 'fairbanks', 'sadon', 'shimoda', 'ippy', 'tumannyy', 'tazovskiy', 'faya', 'angoche', 'teguise', 'letterkenny', 'kawalu', 'ranong', 'corinto', 'penticton', 'nouadhibou', 'nadym', 'weligama', 'aswan', 'luderitz', 'korla', 'kampene', 'omsukchan', 'portland', 'cortez', 'karauzyak', 'jiwani', 'boddam', 'sitka', 'roxana', 'huanren', 'port augusta', 'lorengau', 'nanakuli', 'henzada', 'meulaboh', 'el alto', 'makung', 'aborlan', 'ibra', 'akdepe', 'hurghada', 'bambous virieux', 'abu kamal', 'okha', 'ercis', 'chumikan', 'point pleasant', 'mahon', 'lagos', 'sao felix do xingu', 'betsiamites', 'yuanping', 'nakama', 'thunder bay', 'wanaka', 'calatayud', 'panguna', 'mar del plata', 'lisakovsk', 'cartagena', 'tuatapere', 'parintins', 'bilma', 'pucara', 'lodja', 'pochutla', 'lindi', 'isangel', 'cravo norte', 'mishelevka', 'sal rei', 'tsabong', 'haines junction', 'acapulco', 'rocha', 'sligo', 'broken hill', 'ledyard', 'tubruq', 'saint-augustin', 'yanan', 'ashland', 'paamiut', 'vila franca do campo', 'plesetsk', 'naze', 'acarigua', 'quixada', 'port moresby', 'severo-kurilsk', 'redlands', 'palembang', 'sebaste', 'cortland', 'salalah', 'geraldton', 'samalaeulu', 'saint-denis', 'gondanglegi', 'jiuquan', 'yenagoa', 'wilmington', 'ilinsko-podomskoye', 'artyk', 'beidao', 'kuusankoski', 'hobyo', 'dovolnoye', 'carutapera', 'skjervoy', 'ndele', 'mangai', 'quevedo', 'la asuncion', 'port macquarie', 'nauchnyy gorodok', 'ndjole', 'karangasem', 'nemuro', 'aykhal', 'thinadhoo', 'great falls', 'phrai bung', 'majene', 'alvand', 'bundi', 'okhotsk', 'taltal', 'matias romero', 'deming', 'marsh harbour', 'itaituba', 'ulladulla', 'higuey', 'amapa', 'usinsk', 'sangueya', 'cacador', 'terrace', 'morgan city', 'crotone', 'hambantota', 'bendigo', 'berdigestyakh', 'smithers', 'kidal', 'camana', 'puerto cabezas', 'port-gentil', 'salem', 'vao', 'diamantino', 'nara', 'honningsvag', 'devesel', 'valparaiso', 'port hedland', 'tepatitlan', 'nueva italia de ruiz', 'mbuji-mayi', 'tucuma', 'talnakh', 'ostrovnoy', 'tecoanapa', 'jimeta', 'labuan', 'coquimbo', 'altamira', 'paradwip', 'susanville', 'saint-pierre', 'radhanpur', 'ust-kuyga', 'wainwright', 'zhanaozen', 'tuy hoa', 'quatre cocos', 'mecca', 'san quintin', 'fort saint james', 'baryatino', 'bonthe', 'kibre mengist', 'litomerice', 'nantucket', 'hampton', 'noumea', 'kathu', 'morvi', 'san antonio', 'henties bay', 'tezu', 'malinyi', 'road town', 'buchanan', 'kavaratti', 'aboso', 'dutse', 'cockburn town', 'riyadh', 'caravelas', 'bela', 'tasbuget', 'erzin', 'college', 'acari', 'filadelfia', 'mutoko', 'taoudenni', 'carauari', 'vagamo', 'nome', 'rotterdam', 'raudeberg', 'marquette', 'aranos', 'petatlan', 'espita', 'porto seguro', 'takoradi', 'lastoursville', 'wewak', 'krasnyy oktyabr', 'morwa', 'killybegs']\n"
     ]
    }
   ],
   "source": [
    "print(cities)"
   ]
  },
  {
   "cell_type": "markdown",
   "metadata": {},
   "source": [
    "### Perform API Calls\n",
    "* Perform a weather check on each city using a series of successive API calls.\n",
    "* Include a print log of each city as it'sbeing processed (with the city number and city name).\n"
   ]
  },
  {
   "cell_type": "code",
   "execution_count": 4,
   "metadata": {
    "scrolled": true
   },
   "outputs": [],
   "source": [
    "#call url\n",
    "url ='http://api.openweathermap.org/data/2.5/weather?units=Imperial&APPID=' + weather_api_key\n"
   ]
  },
  {
   "cell_type": "code",
   "execution_count": 5,
   "metadata": {},
   "outputs": [
    {
     "data": {
      "text/plain": [
       "'http://api.openweathermap.org/data/2.5/weather?units=Imperial&APPID=c28a9b25760ceac92e78e81be41bd29a'"
      ]
     },
     "execution_count": 5,
     "metadata": {},
     "output_type": "execute_result"
    }
   ],
   "source": [
    "url"
   ]
  },
  {
   "cell_type": "code",
   "execution_count": 6,
   "metadata": {
    "scrolled": true
   },
   "outputs": [
    {
     "name": "stdout",
     "output_type": "stream",
     "text": [
      "City number 1 of 623 complete. | guerrero negro\n",
      "City number 2 of 623 complete. | atuona\n",
      "City number 3 of 623 complete. | mataura\n",
      "City number 4 of 623 complete. | nicosia\n",
      "City number 5 of 623 complete. | okato\n",
      "City not found. Processing...\n",
      "City number 7 of 623 complete. | hami\n",
      "City number 8 of 623 complete. | sioux lookout\n",
      "City number 9 of 623 complete. | soe\n",
      "City number 10 of 623 complete. | hofn\n",
      "City number 11 of 623 complete. | kozlovo\n",
      "City number 12 of 623 complete. | atar\n",
      "City number 13 of 623 complete. | macau\n",
      "City number 14 of 623 complete. | port hardy\n",
      "City number 15 of 623 complete. | beringovskiy\n",
      "City number 16 of 623 complete. | vila velha\n",
      "City number 17 of 623 complete. | ushuaia\n",
      "City number 18 of 623 complete. | lasa\n",
      "City number 19 of 623 complete. | chokurdakh\n",
      "City number 20 of 623 complete. | kitgum\n",
      "City number 21 of 623 complete. | kieta\n",
      "City number 22 of 623 complete. | butaritari\n",
      "City number 23 of 623 complete. | klaksvik\n",
      "City number 24 of 623 complete. | ponta do sol\n",
      "City number 25 of 623 complete. | alofi\n",
      "City number 26 of 623 complete. | bathsheba\n",
      "City number 27 of 623 complete. | inirida\n",
      "City number 28 of 623 complete. | liberal\n",
      "City number 29 of 623 complete. | kapaa\n",
      "City number 30 of 623 complete. | hobart\n",
      "City number 31 of 623 complete. | qaanaaq\n",
      "City number 32 of 623 complete. | esperance\n",
      "City not found. Processing...\n",
      "City number 34 of 623 complete. | rikitea\n",
      "City number 35 of 623 complete. | punta arenas\n",
      "City number 36 of 623 complete. | karata\n",
      "City number 37 of 623 complete. | vaini\n",
      "City not found. Processing...\n",
      "City number 39 of 623 complete. | barrow\n",
      "City number 40 of 623 complete. | palmer\n",
      "City number 41 of 623 complete. | thompson\n",
      "City not found. Processing...\n",
      "City number 43 of 623 complete. | karratha\n",
      "City number 44 of 623 complete. | busselton\n",
      "City number 45 of 623 complete. | dikson\n",
      "City number 46 of 623 complete. | nikolskoye\n",
      "City number 47 of 623 complete. | avarua\n",
      "City number 48 of 623 complete. | chimore\n",
      "City number 49 of 623 complete. | husavik\n",
      "City number 50 of 623 complete. | kambi\n",
      "City number 51 of 623 complete. | bluff\n",
      "City number 52 of 623 complete. | constitucion\n",
      "City number 53 of 623 complete. | naryan-mar\n",
      "City number 54 of 623 complete. | abiramam\n",
      "City number 55 of 623 complete. | aden\n",
      "City number 56 of 623 complete. | tuktoyaktuk\n",
      "City number 57 of 623 complete. | hilo\n",
      "City number 58 of 623 complete. | ahipara\n",
      "City number 59 of 623 complete. | cherskiy\n",
      "City number 60 of 623 complete. | yarada\n",
      "City number 61 of 623 complete. | albany\n",
      "City number 62 of 623 complete. | ndende\n",
      "City not found. Processing...\n",
      "City number 64 of 623 complete. | mehamn\n",
      "City number 65 of 623 complete. | hermanus\n",
      "City number 66 of 623 complete. | komsomolskiy\n",
      "City number 67 of 623 complete. | skibbereen\n",
      "City number 68 of 623 complete. | asau\n",
      "City number 69 of 623 complete. | teknaf\n",
      "City number 70 of 623 complete. | luwuk\n",
      "City number 71 of 623 complete. | cape town\n",
      "City number 72 of 623 complete. | sambava\n",
      "City number 73 of 623 complete. | hearst\n",
      "City number 74 of 623 complete. | saskylakh\n",
      "City not found. Processing...\n",
      "City number 76 of 623 complete. | villa del rosario\n",
      "City number 77 of 623 complete. | kemijarvi\n",
      "City number 78 of 623 complete. | saldanha\n",
      "City number 79 of 623 complete. | port lincoln\n",
      "City number 80 of 623 complete. | puerto palomas\n",
      "City not found. Processing...\n",
      "City number 82 of 623 complete. | tura\n",
      "City number 83 of 623 complete. | economy\n",
      "City number 84 of 623 complete. | egvekinot\n",
      "City number 85 of 623 complete. | ouallam\n",
      "City number 86 of 623 complete. | saint george\n",
      "City number 87 of 623 complete. | laguna\n",
      "City number 88 of 623 complete. | teya\n",
      "City number 89 of 623 complete. | bengkulu\n",
      "City not found. Processing...\n",
      "City not found. Processing...\n",
      "City number 92 of 623 complete. | ilebo\n",
      "City number 93 of 623 complete. | port-cartier\n",
      "City number 94 of 623 complete. | mao\n",
      "City number 95 of 623 complete. | northam\n",
      "City number 96 of 623 complete. | baltay\n",
      "City number 97 of 623 complete. | ancud\n",
      "City not found. Processing...\n",
      "City number 99 of 623 complete. | tsaratanana\n",
      "City number 100 of 623 complete. | arraial do cabo\n",
      "City number 101 of 623 complete. | bredasdorp\n",
      "City number 102 of 623 complete. | chirongui\n",
      "City number 103 of 623 complete. | kajaani\n",
      "City number 104 of 623 complete. | mokolo\n",
      "City number 105 of 623 complete. | yellowknife\n",
      "City number 106 of 623 complete. | najran\n",
      "City number 107 of 623 complete. | edgewater\n",
      "City number 108 of 623 complete. | santa isabel do rio negro\n",
      "City number 109 of 623 complete. | norman wells\n",
      "City not found. Processing...\n",
      "City number 111 of 623 complete. | novikovo\n",
      "City number 112 of 623 complete. | linxia\n",
      "City number 113 of 623 complete. | kavieng\n",
      "City number 114 of 623 complete. | airai\n",
      "City not found. Processing...\n",
      "City not found. Processing...\n",
      "City number 117 of 623 complete. | bandarbeyla\n",
      "City number 118 of 623 complete. | north myrtle beach\n",
      "City number 119 of 623 complete. | alto araguaia\n",
      "City number 120 of 623 complete. | hovd\n",
      "City number 121 of 623 complete. | narsaq\n",
      "City number 122 of 623 complete. | khatanga\n",
      "City number 123 of 623 complete. | bethel\n",
      "City number 124 of 623 complete. | hithadhoo\n",
      "City number 125 of 623 complete. | sinnamary\n",
      "City number 126 of 623 complete. | hualmay\n",
      "City number 127 of 623 complete. | gillette\n",
      "City number 128 of 623 complete. | gananoque\n",
      "City number 129 of 623 complete. | tondano\n",
      "City number 130 of 623 complete. | canmore\n",
      "City number 131 of 623 complete. | lavrentiya\n",
      "City number 132 of 623 complete. | mattru\n",
      "City not found. Processing...\n",
      "City number 134 of 623 complete. | bay roberts\n",
      "City number 135 of 623 complete. | tibiri\n",
      "City number 136 of 623 complete. | berlevag\n",
      "City number 137 of 623 complete. | simao\n",
      "City number 138 of 623 complete. | mount isa\n",
      "City number 139 of 623 complete. | zalantun\n",
      "City number 140 of 623 complete. | general pico\n",
      "City number 141 of 623 complete. | champerico\n",
      "City not found. Processing...\n",
      "City number 143 of 623 complete. | moengo\n",
      "City number 144 of 623 complete. | monrovia\n",
      "City number 145 of 623 complete. | cairns\n",
      "City number 146 of 623 complete. | casimiro de abreu\n",
      "City number 147 of 623 complete. | port alfred\n",
      "City number 148 of 623 complete. | mangan\n",
      "City number 149 of 623 complete. | kahului\n",
      "City number 150 of 623 complete. | sedan\n",
      "City number 151 of 623 complete. | padang\n",
      "City number 152 of 623 complete. | kismayo\n",
      "City number 153 of 623 complete. | kamenka\n",
      "City number 154 of 623 complete. | abu dhabi\n",
      "City number 155 of 623 complete. | mata\n",
      "City number 156 of 623 complete. | kalanguy\n",
      "City number 157 of 623 complete. | tasiilaq\n",
      "City number 158 of 623 complete. | koslan\n",
      "City number 159 of 623 complete. | kita\n",
      "City number 160 of 623 complete. | evensk\n",
      "City number 161 of 623 complete. | port elizabeth\n",
      "City number 162 of 623 complete. | pisco\n",
      "City number 163 of 623 complete. | lazaro cardenas\n",
      "City number 164 of 623 complete. | axim\n",
      "City number 165 of 623 complete. | halmstad\n",
      "City number 166 of 623 complete. | sur\n",
      "City number 167 of 623 complete. | puerto el triunfo\n",
      "City number 168 of 623 complete. | tahta\n",
      "City number 169 of 623 complete. | ribeira grande\n",
      "City number 170 of 623 complete. | sao filipe\n",
      "City number 171 of 623 complete. | georgetown\n",
      "City number 172 of 623 complete. | torbay\n",
      "City number 173 of 623 complete. | vanimo\n",
      "City number 174 of 623 complete. | nioki\n",
      "City number 175 of 623 complete. | kodiak\n",
      "City number 176 of 623 complete. | clyde river\n",
      "City number 177 of 623 complete. | tamiahua\n",
      "City number 178 of 623 complete. | freeport\n",
      "City number 179 of 623 complete. | cidreira\n",
      "City number 180 of 623 complete. | margate\n",
      "City not found. Processing...\n",
      "City number 182 of 623 complete. | bitam\n",
      "City number 183 of 623 complete. | kalaswala\n",
      "City number 184 of 623 complete. | fortuna\n",
      "City not found. Processing...\n",
      "City number 186 of 623 complete. | seal beach\n",
      "City number 187 of 623 complete. | borzya\n",
      "City number 188 of 623 complete. | otjimbingwe\n",
      "City number 189 of 623 complete. | pevek\n",
      "City number 190 of 623 complete. | coron\n",
      "City not found. Processing...\n",
      "City number 192 of 623 complete. | chenzhou\n",
      "City number 193 of 623 complete. | shenjiamen\n",
      "City number 194 of 623 complete. | tadine\n",
      "City number 195 of 623 complete. | uvat\n"
     ]
    },
    {
     "name": "stdout",
     "output_type": "stream",
     "text": [
      "City number 196 of 623 complete. | svetlyy\n",
      "City number 197 of 623 complete. | upernavik\n",
      "City number 198 of 623 complete. | souillac\n",
      "City number 199 of 623 complete. | shambu\n",
      "City number 200 of 623 complete. | iqaluit\n",
      "City number 201 of 623 complete. | jamestown\n",
      "City not found. Processing...\n",
      "City not found. Processing...\n",
      "City number 204 of 623 complete. | anadyr\n",
      "City not found. Processing...\n",
      "City number 206 of 623 complete. | isla vista\n",
      "City number 207 of 623 complete. | cedral\n",
      "City number 208 of 623 complete. | comodoro rivadavia\n",
      "City number 209 of 623 complete. | cassilandia\n",
      "City not found. Processing...\n",
      "City number 211 of 623 complete. | luangwa\n",
      "City number 212 of 623 complete. | east london\n",
      "City number 213 of 623 complete. | chuy\n",
      "City number 214 of 623 complete. | ola\n",
      "City number 215 of 623 complete. | balkanabat\n",
      "City number 216 of 623 complete. | tsiroanomandidy\n",
      "City number 217 of 623 complete. | walvis bay\n",
      "City number 218 of 623 complete. | deputatskiy\n",
      "City number 219 of 623 complete. | port blair\n",
      "City number 220 of 623 complete. | luanda\n",
      "City number 221 of 623 complete. | kaeo\n",
      "City number 222 of 623 complete. | castro\n",
      "City number 223 of 623 complete. | cayenne\n",
      "City number 224 of 623 complete. | sam roi yot\n",
      "City number 225 of 623 complete. | itarema\n",
      "City number 226 of 623 complete. | puerto ayora\n",
      "City number 227 of 623 complete. | mahebourg\n",
      "City number 228 of 623 complete. | hailar\n",
      "City number 229 of 623 complete. | longyearbyen\n",
      "City number 230 of 623 complete. | kruisfontein\n",
      "City number 231 of 623 complete. | olesno\n",
      "City number 232 of 623 complete. | ormond beach\n",
      "City number 233 of 623 complete. | manavalakurichi\n",
      "City number 234 of 623 complete. | camabatela\n",
      "City number 235 of 623 complete. | omalur\n",
      "City number 236 of 623 complete. | dalvik\n",
      "City number 237 of 623 complete. | khani\n",
      "City number 238 of 623 complete. | lakhdenpokhya\n",
      "City number 239 of 623 complete. | mount gambier\n",
      "City number 240 of 623 complete. | teguldet\n",
      "City number 241 of 623 complete. | ozernovskiy\n",
      "City number 242 of 623 complete. | winslow\n",
      "City number 243 of 623 complete. | vardo\n",
      "City number 244 of 623 complete. | havre-saint-pierre\n",
      "City number 245 of 623 complete. | lagoa\n",
      "City not found. Processing...\n",
      "City number 247 of 623 complete. | tautira\n",
      "City number 248 of 623 complete. | bowen\n",
      "City number 249 of 623 complete. | victoria\n",
      "City number 250 of 623 complete. | san jeronimo\n",
      "City number 251 of 623 complete. | faanui\n",
      "City number 252 of 623 complete. | iesolo\n",
      "City number 253 of 623 complete. | maryville\n",
      "City number 254 of 623 complete. | moree\n",
      "City number 255 of 623 complete. | aksu\n",
      "City number 256 of 623 complete. | umm lajj\n",
      "City number 257 of 623 complete. | new norfolk\n",
      "City number 258 of 623 complete. | atyrau\n",
      "City number 259 of 623 complete. | kaitangata\n",
      "City number 260 of 623 complete. | leningradskiy\n",
      "City number 261 of 623 complete. | sandnessjoen\n",
      "City number 262 of 623 complete. | hasaki\n",
      "City number 263 of 623 complete. | dunhua\n",
      "City number 264 of 623 complete. | washington\n",
      "City number 265 of 623 complete. | the pas\n",
      "City number 266 of 623 complete. | chitose\n",
      "City number 267 of 623 complete. | pangnirtung\n",
      "City number 268 of 623 complete. | olinda\n",
      "City number 269 of 623 complete. | roquetas de mar\n",
      "City number 270 of 623 complete. | katsuura\n",
      "City number 271 of 623 complete. | kupang\n",
      "City number 272 of 623 complete. | brae\n",
      "City number 273 of 623 complete. | sept-iles\n",
      "City number 274 of 623 complete. | shelburne\n",
      "City number 275 of 623 complete. | zhoucheng\n",
      "City not found. Processing...\n",
      "City number 277 of 623 complete. | tongren\n",
      "City number 278 of 623 complete. | vauvert\n",
      "City number 279 of 623 complete. | avera\n",
      "City number 280 of 623 complete. | flinders\n",
      "City number 281 of 623 complete. | quebo\n",
      "City number 282 of 623 complete. | muli\n",
      "City number 283 of 623 complete. | manaure\n",
      "City number 284 of 623 complete. | dancheng\n",
      "City number 285 of 623 complete. | mercer island\n",
      "City number 286 of 623 complete. | yabelo\n",
      "City number 287 of 623 complete. | irbit\n",
      "City number 288 of 623 complete. | praia da vitoria\n",
      "City number 289 of 623 complete. | aklavik\n",
      "City not found. Processing...\n",
      "City number 291 of 623 complete. | urucara\n",
      "City number 292 of 623 complete. | batemans bay\n",
      "City number 293 of 623 complete. | roma\n",
      "City number 294 of 623 complete. | dingle\n",
      "City number 295 of 623 complete. | ilulissat\n",
      "City number 296 of 623 complete. | rosarito\n",
      "City number 297 of 623 complete. | grindavik\n",
      "City number 298 of 623 complete. | bubaque\n",
      "City number 299 of 623 complete. | santa cruz\n",
      "City number 300 of 623 complete. | kuala terengganu\n",
      "City number 301 of 623 complete. | kargasok\n",
      "City number 302 of 623 complete. | pringsewu\n",
      "City number 303 of 623 complete. | toyooka\n",
      "City number 304 of 623 complete. | lingao\n",
      "City number 305 of 623 complete. | vostok\n",
      "City number 306 of 623 complete. | leh\n",
      "City number 307 of 623 complete. | sao miguel do araguaia\n",
      "City number 308 of 623 complete. | dingzhou\n",
      "City number 309 of 623 complete. | sao joaquim\n",
      "City number 310 of 623 complete. | ornskoldsvik\n",
      "City number 311 of 623 complete. | saint anthony\n",
      "City number 312 of 623 complete. | martapura\n",
      "City number 313 of 623 complete. | jinchang\n",
      "City number 314 of 623 complete. | alice springs\n",
      "City number 315 of 623 complete. | cape canaveral\n",
      "City number 316 of 623 complete. | sibolga\n",
      "City number 317 of 623 complete. | grand gaube\n",
      "City number 318 of 623 complete. | kaseda\n",
      "City number 319 of 623 complete. | coihaique\n",
      "City number 320 of 623 complete. | lompoc\n",
      "City number 321 of 623 complete. | trelew\n",
      "City number 322 of 623 complete. | ocampo\n",
      "City number 323 of 623 complete. | katherine\n",
      "City number 324 of 623 complete. | lahan\n",
      "City number 325 of 623 complete. | ulety\n",
      "City number 326 of 623 complete. | kaniv\n",
      "City number 327 of 623 complete. | miraflores\n",
      "City number 328 of 623 complete. | richards bay\n",
      "City number 329 of 623 complete. | nanortalik\n",
      "City number 330 of 623 complete. | samarai\n",
      "City number 331 of 623 complete. | taldan\n",
      "City number 332 of 623 complete. | iberia\n",
      "City number 333 of 623 complete. | tucuman\n",
      "City number 334 of 623 complete. | kushiro\n",
      "City number 335 of 623 complete. | poum\n",
      "City number 336 of 623 complete. | westport\n",
      "City number 337 of 623 complete. | saint-georges\n",
      "City number 338 of 623 complete. | gamba\n",
      "City number 339 of 623 complete. | carnarvon\n",
      "City number 340 of 623 complete. | dudinka\n",
      "City number 341 of 623 complete. | la romana\n",
      "City number 342 of 623 complete. | almaty\n",
      "City number 343 of 623 complete. | fort nelson\n",
      "City number 344 of 623 complete. | adrar\n",
      "City number 345 of 623 complete. | malabo\n",
      "City number 346 of 623 complete. | belyy yar\n",
      "City number 347 of 623 complete. | gizo\n",
      "City number 348 of 623 complete. | lakes entrance\n",
      "City number 349 of 623 complete. | malatya\n",
      "City number 350 of 623 complete. | kostomuksha\n",
      "City number 351 of 623 complete. | kapit\n",
      "City number 352 of 623 complete. | sergeyevka\n",
      "City number 353 of 623 complete. | dauriya\n",
      "City number 354 of 623 complete. | dongsheng\n",
      "City number 355 of 623 complete. | glebychevo\n",
      "City number 356 of 623 complete. | boca do acre\n",
      "City number 357 of 623 complete. | yulara\n",
      "City number 358 of 623 complete. | dwarka\n",
      "City number 359 of 623 complete. | saint-philippe\n",
      "City number 360 of 623 complete. | eldorado\n",
      "City number 361 of 623 complete. | cascais\n",
      "City number 362 of 623 complete. | banda aceh\n",
      "City number 363 of 623 complete. | fare\n",
      "City number 364 of 623 complete. | provideniya\n",
      "City number 365 of 623 complete. | kishi\n",
      "City number 366 of 623 complete. | tomakomai\n",
      "City not found. Processing...\n",
      "City number 368 of 623 complete. | roald\n",
      "City number 369 of 623 complete. | turukhansk\n",
      "City number 370 of 623 complete. | zugdidi\n",
      "City not found. Processing...\n",
      "City number 372 of 623 complete. | general roca\n",
      "City number 373 of 623 complete. | las palmas\n",
      "City number 374 of 623 complete. | itapecerica\n",
      "City number 375 of 623 complete. | usevya\n",
      "City number 376 of 623 complete. | geelong\n",
      "City number 377 of 623 complete. | eyl\n",
      "City number 378 of 623 complete. | san patricio\n",
      "City number 379 of 623 complete. | san carlos de bariloche\n",
      "City number 380 of 623 complete. | lebu\n",
      "City number 381 of 623 complete. | tiksi\n",
      "City number 382 of 623 complete. | voh\n",
      "City number 383 of 623 complete. | makakilo city\n",
      "City not found. Processing...\n"
     ]
    },
    {
     "name": "stdout",
     "output_type": "stream",
     "text": [
      "City not found. Processing...\n",
      "City not found. Processing...\n",
      "City number 387 of 623 complete. | sangar\n",
      "City number 388 of 623 complete. | smolenka\n",
      "City number 389 of 623 complete. | west plains\n",
      "City number 390 of 623 complete. | kloulklubed\n",
      "City number 391 of 623 complete. | kharp\n",
      "City number 392 of 623 complete. | srednekolymsk\n",
      "City not found. Processing...\n",
      "City number 394 of 623 complete. | yerbogachen\n",
      "City number 395 of 623 complete. | jizan\n",
      "City number 396 of 623 complete. | kununurra\n",
      "City number 397 of 623 complete. | chimbote\n",
      "City not found. Processing...\n",
      "City number 399 of 623 complete. | fairbanks\n",
      "City number 400 of 623 complete. | sadon\n",
      "City number 401 of 623 complete. | shimoda\n",
      "City number 402 of 623 complete. | ippy\n",
      "City not found. Processing...\n",
      "City number 404 of 623 complete. | tazovskiy\n",
      "City number 405 of 623 complete. | faya\n",
      "City number 406 of 623 complete. | angoche\n",
      "City number 407 of 623 complete. | teguise\n",
      "City number 408 of 623 complete. | letterkenny\n",
      "City number 409 of 623 complete. | kawalu\n",
      "City number 410 of 623 complete. | ranong\n",
      "City number 411 of 623 complete. | corinto\n",
      "City number 412 of 623 complete. | penticton\n",
      "City number 413 of 623 complete. | nouadhibou\n",
      "City number 414 of 623 complete. | nadym\n",
      "City number 415 of 623 complete. | weligama\n",
      "City number 416 of 623 complete. | aswan\n",
      "City number 417 of 623 complete. | luderitz\n",
      "City number 418 of 623 complete. | korla\n",
      "City number 419 of 623 complete. | kampene\n",
      "City number 420 of 623 complete. | omsukchan\n",
      "City number 421 of 623 complete. | portland\n",
      "City number 422 of 623 complete. | cortez\n",
      "City not found. Processing...\n",
      "City number 424 of 623 complete. | jiwani\n",
      "City number 425 of 623 complete. | boddam\n",
      "City number 426 of 623 complete. | sitka\n",
      "City number 427 of 623 complete. | roxana\n",
      "City number 428 of 623 complete. | huanren\n",
      "City number 429 of 623 complete. | port augusta\n",
      "City number 430 of 623 complete. | lorengau\n",
      "City number 431 of 623 complete. | nanakuli\n",
      "City not found. Processing...\n",
      "City number 433 of 623 complete. | meulaboh\n",
      "City number 434 of 623 complete. | el alto\n",
      "City not found. Processing...\n",
      "City number 436 of 623 complete. | aborlan\n",
      "City number 437 of 623 complete. | ibra\n",
      "City number 438 of 623 complete. | akdepe\n",
      "City number 439 of 623 complete. | hurghada\n",
      "City number 440 of 623 complete. | bambous virieux\n",
      "City number 441 of 623 complete. | abu kamal\n",
      "City number 442 of 623 complete. | okha\n",
      "City number 443 of 623 complete. | ercis\n",
      "City number 444 of 623 complete. | chumikan\n",
      "City number 445 of 623 complete. | point pleasant\n",
      "City number 446 of 623 complete. | mahon\n",
      "City number 447 of 623 complete. | lagos\n",
      "City number 448 of 623 complete. | sao felix do xingu\n",
      "City number 449 of 623 complete. | betsiamites\n",
      "City number 450 of 623 complete. | yuanping\n",
      "City number 451 of 623 complete. | nakama\n",
      "City number 452 of 623 complete. | thunder bay\n",
      "City number 453 of 623 complete. | wanaka\n",
      "City number 454 of 623 complete. | calatayud\n",
      "City number 455 of 623 complete. | panguna\n",
      "City number 456 of 623 complete. | mar del plata\n",
      "City number 457 of 623 complete. | lisakovsk\n",
      "City number 458 of 623 complete. | cartagena\n",
      "City number 459 of 623 complete. | tuatapere\n",
      "City number 460 of 623 complete. | parintins\n",
      "City number 461 of 623 complete. | bilma\n",
      "City number 462 of 623 complete. | pucara\n",
      "City number 463 of 623 complete. | lodja\n",
      "City number 464 of 623 complete. | pochutla\n",
      "City number 465 of 623 complete. | lindi\n",
      "City number 466 of 623 complete. | isangel\n",
      "City number 467 of 623 complete. | cravo norte\n",
      "City number 468 of 623 complete. | mishelevka\n",
      "City number 469 of 623 complete. | sal rei\n",
      "City number 470 of 623 complete. | tsabong\n",
      "City number 471 of 623 complete. | haines junction\n",
      "City number 472 of 623 complete. | acapulco\n",
      "City number 473 of 623 complete. | rocha\n",
      "City number 474 of 623 complete. | sligo\n",
      "City number 475 of 623 complete. | broken hill\n",
      "City number 476 of 623 complete. | ledyard\n",
      "City not found. Processing...\n",
      "City number 478 of 623 complete. | saint-augustin\n",
      "City not found. Processing...\n",
      "City number 480 of 623 complete. | ashland\n",
      "City number 481 of 623 complete. | paamiut\n",
      "City number 482 of 623 complete. | vila franca do campo\n",
      "City number 483 of 623 complete. | plesetsk\n",
      "City number 484 of 623 complete. | naze\n",
      "City number 485 of 623 complete. | acarigua\n",
      "City number 486 of 623 complete. | quixada\n",
      "City number 487 of 623 complete. | port moresby\n",
      "City number 488 of 623 complete. | severo-kurilsk\n",
      "City number 489 of 623 complete. | redlands\n",
      "City number 490 of 623 complete. | palembang\n",
      "City number 491 of 623 complete. | sebaste\n",
      "City number 492 of 623 complete. | cortland\n",
      "City number 493 of 623 complete. | salalah\n",
      "City number 494 of 623 complete. | geraldton\n",
      "City not found. Processing...\n",
      "City number 496 of 623 complete. | saint-denis\n",
      "City number 497 of 623 complete. | gondanglegi\n",
      "City number 498 of 623 complete. | jiuquan\n",
      "City number 499 of 623 complete. | yenagoa\n",
      "City number 500 of 623 complete. | wilmington\n",
      "City not found. Processing...\n",
      "City not found. Processing...\n",
      "City number 503 of 623 complete. | beidao\n",
      "City number 504 of 623 complete. | kuusankoski\n",
      "City number 505 of 623 complete. | hobyo\n",
      "City number 506 of 623 complete. | dovolnoye\n",
      "City number 507 of 623 complete. | carutapera\n",
      "City number 508 of 623 complete. | skjervoy\n",
      "City number 509 of 623 complete. | ndele\n",
      "City number 510 of 623 complete. | mangai\n",
      "City number 511 of 623 complete. | quevedo\n",
      "City number 512 of 623 complete. | la asuncion\n",
      "City number 513 of 623 complete. | port macquarie\n",
      "City number 514 of 623 complete. | nauchnyy gorodok\n",
      "City number 515 of 623 complete. | ndjole\n",
      "City number 516 of 623 complete. | karangasem\n",
      "City number 517 of 623 complete. | nemuro\n",
      "City number 518 of 623 complete. | aykhal\n",
      "City number 519 of 623 complete. | thinadhoo\n",
      "City number 520 of 623 complete. | great falls\n",
      "City not found. Processing...\n",
      "City number 522 of 623 complete. | majene\n",
      "City number 523 of 623 complete. | alvand\n",
      "City number 524 of 623 complete. | bundi\n",
      "City number 525 of 623 complete. | okhotsk\n",
      "City number 526 of 623 complete. | taltal\n",
      "City number 527 of 623 complete. | matias romero\n",
      "City number 528 of 623 complete. | deming\n",
      "City number 529 of 623 complete. | marsh harbour\n",
      "City number 530 of 623 complete. | itaituba\n",
      "City number 531 of 623 complete. | ulladulla\n",
      "City not found. Processing...\n",
      "City number 533 of 623 complete. | amapa\n",
      "City number 534 of 623 complete. | usinsk\n",
      "City number 535 of 623 complete. | sangueya\n",
      "City number 536 of 623 complete. | cacador\n",
      "City number 537 of 623 complete. | terrace\n",
      "City number 538 of 623 complete. | morgan city\n",
      "City number 539 of 623 complete. | crotone\n",
      "City number 540 of 623 complete. | hambantota\n",
      "City number 541 of 623 complete. | bendigo\n",
      "City number 542 of 623 complete. | berdigestyakh\n",
      "City number 543 of 623 complete. | smithers\n",
      "City number 544 of 623 complete. | kidal\n",
      "City number 545 of 623 complete. | camana\n",
      "City number 546 of 623 complete. | puerto cabezas\n",
      "City number 547 of 623 complete. | port-gentil\n",
      "City number 548 of 623 complete. | salem\n",
      "City number 549 of 623 complete. | vao\n",
      "City number 550 of 623 complete. | diamantino\n",
      "City number 551 of 623 complete. | nara\n",
      "City number 552 of 623 complete. | honningsvag\n",
      "City number 553 of 623 complete. | devesel\n",
      "City number 554 of 623 complete. | valparaiso\n",
      "City number 555 of 623 complete. | port hedland\n",
      "City not found. Processing...\n",
      "City number 557 of 623 complete. | nueva italia de ruiz\n",
      "City number 558 of 623 complete. | mbuji-mayi\n",
      "City number 559 of 623 complete. | tucuma\n",
      "City number 560 of 623 complete. | talnakh\n",
      "City number 561 of 623 complete. | ostrovnoy\n",
      "City number 562 of 623 complete. | tecoanapa\n",
      "City number 563 of 623 complete. | jimeta\n",
      "City number 564 of 623 complete. | labuan\n",
      "City number 565 of 623 complete. | coquimbo\n",
      "City number 566 of 623 complete. | altamira\n",
      "City not found. Processing...\n",
      "City number 568 of 623 complete. | susanville\n",
      "City number 569 of 623 complete. | saint-pierre\n",
      "City number 570 of 623 complete. | radhanpur\n",
      "City number 571 of 623 complete. | ust-kuyga\n",
      "City number 572 of 623 complete. | wainwright\n",
      "City number 573 of 623 complete. | zhanaozen\n",
      "City number 574 of 623 complete. | tuy hoa\n",
      "City number 575 of 623 complete. | quatre cocos\n",
      "City number 576 of 623 complete. | mecca\n"
     ]
    },
    {
     "name": "stdout",
     "output_type": "stream",
     "text": [
      "City number 577 of 623 complete. | san quintin\n",
      "City number 578 of 623 complete. | fort saint james\n",
      "City number 579 of 623 complete. | baryatino\n",
      "City number 580 of 623 complete. | bonthe\n",
      "City number 581 of 623 complete. | kibre mengist\n",
      "City number 582 of 623 complete. | litomerice\n",
      "City number 583 of 623 complete. | nantucket\n",
      "City number 584 of 623 complete. | hampton\n",
      "City number 585 of 623 complete. | noumea\n",
      "City number 586 of 623 complete. | kathu\n",
      "City number 587 of 623 complete. | morvi\n",
      "City number 588 of 623 complete. | san antonio\n",
      "City number 589 of 623 complete. | henties bay\n",
      "City number 590 of 623 complete. | tezu\n",
      "City number 591 of 623 complete. | malinyi\n",
      "City number 592 of 623 complete. | road town\n",
      "City number 593 of 623 complete. | buchanan\n",
      "City number 594 of 623 complete. | kavaratti\n",
      "City number 595 of 623 complete. | aboso\n",
      "City number 596 of 623 complete. | dutse\n",
      "City number 597 of 623 complete. | cockburn town\n",
      "City number 598 of 623 complete. | riyadh\n",
      "City number 599 of 623 complete. | caravelas\n",
      "City number 600 of 623 complete. | bela\n",
      "City not found. Processing...\n",
      "City number 602 of 623 complete. | erzin\n",
      "City number 603 of 623 complete. | college\n",
      "City number 604 of 623 complete. | acari\n",
      "City number 605 of 623 complete. | filadelfia\n",
      "City number 606 of 623 complete. | mutoko\n",
      "City number 607 of 623 complete. | taoudenni\n",
      "City number 608 of 623 complete. | carauari\n",
      "City number 609 of 623 complete. | vagamo\n",
      "City number 610 of 623 complete. | nome\n",
      "City number 611 of 623 complete. | rotterdam\n",
      "City number 612 of 623 complete. | raudeberg\n",
      "City number 613 of 623 complete. | marquette\n",
      "City number 614 of 623 complete. | aranos\n",
      "City number 615 of 623 complete. | petatlan\n",
      "City number 616 of 623 complete. | espita\n",
      "City number 617 of 623 complete. | porto seguro\n",
      "City number 618 of 623 complete. | takoradi\n",
      "City number 619 of 623 complete. | lastoursville\n",
      "City number 620 of 623 complete. | wewak\n",
      "City number 621 of 623 complete. | krasnyy oktyabr\n",
      "City number 622 of 623 complete. | morwa\n",
      "City number 623 of 623 complete. | killybegs\n",
      "------------------------------\n",
      "Data Retrieval Complete\n",
      "------------------------------\n"
     ]
    }
   ],
   "source": [
    "#create lists for all columns\n",
    "city_list = []\n",
    "lat = []\n",
    "lng = []\n",
    "max_temp = []\n",
    "humidity = []\n",
    "cloudiness = []\n",
    "wind_speed =[]\n",
    "country = []\n",
    "date = [] \n",
    "\n",
    "\n",
    "#set city count\n",
    "city_count = 1\n",
    "\n",
    "for city in cities:\n",
    "    try:\n",
    "        response = (requests.get(url + '&q=' + city)).json()\n",
    "        city_list.append(response['name'])\n",
    "        lat.append(response['coord']['lat'])\n",
    "        lng.append(response['coord']['lon'])\n",
    "        max_temp.append(response['main']['temp'])\n",
    "        humidity.append(response['main']['humidity'])\n",
    "        cloudiness.append(response['clouds']['all'])\n",
    "        wind_speed.append(response['wind']['speed'])\n",
    "        country.append(response['sys']['country'])\n",
    "        date.append(response['dt'])\n",
    "        print(f'City number {city_count} of {len(cities)} complete. | {city}')\n",
    "        city_count = city_count + 1\n",
    "    \n",
    "        \n",
    "            \n",
    "    except KeyError:\n",
    "        print(\"City not found. Processing...\")\n",
    "        city_count = city_count + 1\n",
    "print(\"------------------------------\\nData Retrieval Complete\\n------------------------------\")\n",
    "\n"
   ]
  },
  {
   "cell_type": "markdown",
   "metadata": {},
   "source": [
    "### Convert Raw Data to DataFrame\n",
    "* Export the city data into a .csv.\n",
    "* Display the DataFrame"
   ]
  },
  {
   "cell_type": "code",
   "execution_count": 34,
   "metadata": {},
   "outputs": [
    {
     "data": {
      "text/html": [
       "<div>\n",
       "<style scoped>\n",
       "    .dataframe tbody tr th:only-of-type {\n",
       "        vertical-align: middle;\n",
       "    }\n",
       "\n",
       "    .dataframe tbody tr th {\n",
       "        vertical-align: top;\n",
       "    }\n",
       "\n",
       "    .dataframe thead th {\n",
       "        text-align: right;\n",
       "    }\n",
       "</style>\n",
       "<table border=\"1\" class=\"dataframe\">\n",
       "  <thead>\n",
       "    <tr style=\"text-align: right;\">\n",
       "      <th></th>\n",
       "      <th>City</th>\n",
       "      <th>Lat</th>\n",
       "      <th>Lng</th>\n",
       "      <th>Temp</th>\n",
       "      <th>Humidity</th>\n",
       "      <th>Cloudiness</th>\n",
       "      <th>Wind Speed</th>\n",
       "      <th>Country</th>\n",
       "      <th>Date</th>\n",
       "    </tr>\n",
       "  </thead>\n",
       "  <tbody>\n",
       "    <tr>\n",
       "      <th>0</th>\n",
       "      <td>Guerrero Negro</td>\n",
       "      <td>27.9769</td>\n",
       "      <td>-114.0611</td>\n",
       "      <td>67.73</td>\n",
       "      <td>64</td>\n",
       "      <td>0</td>\n",
       "      <td>14.29</td>\n",
       "      <td>MX</td>\n",
       "      <td>1635091451</td>\n",
       "    </tr>\n",
       "    <tr>\n",
       "      <th>1</th>\n",
       "      <td>Atuona</td>\n",
       "      <td>-9.8000</td>\n",
       "      <td>-139.0333</td>\n",
       "      <td>77.81</td>\n",
       "      <td>74</td>\n",
       "      <td>19</td>\n",
       "      <td>18.10</td>\n",
       "      <td>PF</td>\n",
       "      <td>1635091451</td>\n",
       "    </tr>\n",
       "    <tr>\n",
       "      <th>2</th>\n",
       "      <td>Mataura</td>\n",
       "      <td>-46.1927</td>\n",
       "      <td>168.8643</td>\n",
       "      <td>49.24</td>\n",
       "      <td>98</td>\n",
       "      <td>91</td>\n",
       "      <td>0.54</td>\n",
       "      <td>NZ</td>\n",
       "      <td>1635091451</td>\n",
       "    </tr>\n",
       "    <tr>\n",
       "      <th>3</th>\n",
       "      <td>Nicosia</td>\n",
       "      <td>35.1667</td>\n",
       "      <td>33.3667</td>\n",
       "      <td>71.08</td>\n",
       "      <td>56</td>\n",
       "      <td>20</td>\n",
       "      <td>12.66</td>\n",
       "      <td>CY</td>\n",
       "      <td>1635091451</td>\n",
       "    </tr>\n",
       "    <tr>\n",
       "      <th>4</th>\n",
       "      <td>Okato</td>\n",
       "      <td>-39.2000</td>\n",
       "      <td>173.8833</td>\n",
       "      <td>53.69</td>\n",
       "      <td>94</td>\n",
       "      <td>100</td>\n",
       "      <td>8.52</td>\n",
       "      <td>NZ</td>\n",
       "      <td>1635091452</td>\n",
       "    </tr>\n",
       "    <tr>\n",
       "      <th>...</th>\n",
       "      <td>...</td>\n",
       "      <td>...</td>\n",
       "      <td>...</td>\n",
       "      <td>...</td>\n",
       "      <td>...</td>\n",
       "      <td>...</td>\n",
       "      <td>...</td>\n",
       "      <td>...</td>\n",
       "      <td>...</td>\n",
       "    </tr>\n",
       "    <tr>\n",
       "      <th>572</th>\n",
       "      <td>Lastoursville</td>\n",
       "      <td>-0.8143</td>\n",
       "      <td>12.7287</td>\n",
       "      <td>78.96</td>\n",
       "      <td>89</td>\n",
       "      <td>62</td>\n",
       "      <td>0.16</td>\n",
       "      <td>GA</td>\n",
       "      <td>1635091635</td>\n",
       "    </tr>\n",
       "    <tr>\n",
       "      <th>573</th>\n",
       "      <td>Wewak</td>\n",
       "      <td>-3.5534</td>\n",
       "      <td>143.6268</td>\n",
       "      <td>79.18</td>\n",
       "      <td>83</td>\n",
       "      <td>100</td>\n",
       "      <td>4.54</td>\n",
       "      <td>PG</td>\n",
       "      <td>1635091635</td>\n",
       "    </tr>\n",
       "    <tr>\n",
       "      <th>574</th>\n",
       "      <td>Krasnyy Oktyabr'</td>\n",
       "      <td>56.1167</td>\n",
       "      <td>38.8833</td>\n",
       "      <td>33.76</td>\n",
       "      <td>77</td>\n",
       "      <td>98</td>\n",
       "      <td>12.53</td>\n",
       "      <td>RU</td>\n",
       "      <td>1635091365</td>\n",
       "    </tr>\n",
       "    <tr>\n",
       "      <th>575</th>\n",
       "      <td>Morwa</td>\n",
       "      <td>22.9000</td>\n",
       "      <td>73.8333</td>\n",
       "      <td>75.45</td>\n",
       "      <td>57</td>\n",
       "      <td>40</td>\n",
       "      <td>7.34</td>\n",
       "      <td>IN</td>\n",
       "      <td>1635091636</td>\n",
       "    </tr>\n",
       "    <tr>\n",
       "      <th>576</th>\n",
       "      <td>Killybegs</td>\n",
       "      <td>54.6333</td>\n",
       "      <td>-8.4500</td>\n",
       "      <td>55.11</td>\n",
       "      <td>82</td>\n",
       "      <td>69</td>\n",
       "      <td>19.30</td>\n",
       "      <td>IE</td>\n",
       "      <td>1635091636</td>\n",
       "    </tr>\n",
       "  </tbody>\n",
       "</table>\n",
       "<p>577 rows × 9 columns</p>\n",
       "</div>"
      ],
      "text/plain": [
       "                 City      Lat       Lng   Temp  Humidity  Cloudiness  \\\n",
       "0      Guerrero Negro  27.9769 -114.0611  67.73        64           0   \n",
       "1              Atuona  -9.8000 -139.0333  77.81        74          19   \n",
       "2             Mataura -46.1927  168.8643  49.24        98          91   \n",
       "3             Nicosia  35.1667   33.3667  71.08        56          20   \n",
       "4               Okato -39.2000  173.8833  53.69        94         100   \n",
       "..                ...      ...       ...    ...       ...         ...   \n",
       "572     Lastoursville  -0.8143   12.7287  78.96        89          62   \n",
       "573             Wewak  -3.5534  143.6268  79.18        83         100   \n",
       "574  Krasnyy Oktyabr'  56.1167   38.8833  33.76        77          98   \n",
       "575             Morwa  22.9000   73.8333  75.45        57          40   \n",
       "576         Killybegs  54.6333   -8.4500  55.11        82          69   \n",
       "\n",
       "     Wind Speed Country        Date  \n",
       "0         14.29      MX  1635091451  \n",
       "1         18.10      PF  1635091451  \n",
       "2          0.54      NZ  1635091451  \n",
       "3         12.66      CY  1635091451  \n",
       "4          8.52      NZ  1635091452  \n",
       "..          ...     ...         ...  \n",
       "572        0.16      GA  1635091635  \n",
       "573        4.54      PG  1635091635  \n",
       "574       12.53      RU  1635091365  \n",
       "575        7.34      IN  1635091636  \n",
       "576       19.30      IE  1635091636  \n",
       "\n",
       "[577 rows x 9 columns]"
      ]
     },
     "execution_count": 34,
     "metadata": {},
     "output_type": "execute_result"
    }
   ],
   "source": [
    "city_weather = {\n",
    "    \"City\": city_list,\n",
    "    \"Lat\": lat,\n",
    "    \"Lng\": lng,\n",
    "    \"Temp\": max_temp,\n",
    "    \"Humidity\": humidity,\n",
    "    \"Cloudiness\": cloudiness,\n",
    "    \"Wind Speed\": wind_speed,\n",
    "    \"Country\": country,\n",
    "    \"Date\": date   \n",
    "}\n",
    "weather_all= pd.DataFrame(city_weather)\n",
    "weather_all"
   ]
  },
  {
   "cell_type": "code",
   "execution_count": 35,
   "metadata": {},
   "outputs": [
    {
     "data": {
      "text/html": [
       "<div>\n",
       "<style scoped>\n",
       "    .dataframe tbody tr th:only-of-type {\n",
       "        vertical-align: middle;\n",
       "    }\n",
       "\n",
       "    .dataframe tbody tr th {\n",
       "        vertical-align: top;\n",
       "    }\n",
       "\n",
       "    .dataframe thead th {\n",
       "        text-align: right;\n",
       "    }\n",
       "</style>\n",
       "<table border=\"1\" class=\"dataframe\">\n",
       "  <thead>\n",
       "    <tr style=\"text-align: right;\">\n",
       "      <th></th>\n",
       "      <th>Lat</th>\n",
       "      <th>Lng</th>\n",
       "      <th>Temp</th>\n",
       "      <th>Humidity</th>\n",
       "      <th>Cloudiness</th>\n",
       "      <th>Wind Speed</th>\n",
       "      <th>Date</th>\n",
       "    </tr>\n",
       "  </thead>\n",
       "  <tbody>\n",
       "    <tr>\n",
       "      <th>count</th>\n",
       "      <td>577.000000</td>\n",
       "      <td>577.000000</td>\n",
       "      <td>577.000000</td>\n",
       "      <td>577.000000</td>\n",
       "      <td>577.000000</td>\n",
       "      <td>577.000000</td>\n",
       "      <td>5.770000e+02</td>\n",
       "    </tr>\n",
       "    <tr>\n",
       "      <th>mean</th>\n",
       "      <td>20.222196</td>\n",
       "      <td>16.028923</td>\n",
       "      <td>60.935130</td>\n",
       "      <td>70.901213</td>\n",
       "      <td>56.440208</td>\n",
       "      <td>7.593917</td>\n",
       "      <td>1.635092e+09</td>\n",
       "    </tr>\n",
       "    <tr>\n",
       "      <th>std</th>\n",
       "      <td>32.510438</td>\n",
       "      <td>90.687453</td>\n",
       "      <td>22.132346</td>\n",
       "      <td>20.113280</td>\n",
       "      <td>38.031287</td>\n",
       "      <td>5.670216</td>\n",
       "      <td>9.067143e+01</td>\n",
       "    </tr>\n",
       "    <tr>\n",
       "      <th>min</th>\n",
       "      <td>-54.800000</td>\n",
       "      <td>-179.166700</td>\n",
       "      <td>-11.470000</td>\n",
       "      <td>9.000000</td>\n",
       "      <td>0.000000</td>\n",
       "      <td>0.000000</td>\n",
       "      <td>1.635091e+09</td>\n",
       "    </tr>\n",
       "    <tr>\n",
       "      <th>25%</th>\n",
       "      <td>-4.276100</td>\n",
       "      <td>-66.895800</td>\n",
       "      <td>47.160000</td>\n",
       "      <td>61.000000</td>\n",
       "      <td>18.000000</td>\n",
       "      <td>3.510000</td>\n",
       "      <td>1.635091e+09</td>\n",
       "    </tr>\n",
       "    <tr>\n",
       "      <th>50%</th>\n",
       "      <td>22.285500</td>\n",
       "      <td>20.040300</td>\n",
       "      <td>65.440000</td>\n",
       "      <td>74.000000</td>\n",
       "      <td>68.000000</td>\n",
       "      <td>6.330000</td>\n",
       "      <td>1.635092e+09</td>\n",
       "    </tr>\n",
       "    <tr>\n",
       "      <th>75%</th>\n",
       "      <td>47.599900</td>\n",
       "      <td>96.128500</td>\n",
       "      <td>78.870000</td>\n",
       "      <td>86.000000</td>\n",
       "      <td>95.000000</td>\n",
       "      <td>10.180000</td>\n",
       "      <td>1.635092e+09</td>\n",
       "    </tr>\n",
       "    <tr>\n",
       "      <th>max</th>\n",
       "      <td>78.218600</td>\n",
       "      <td>179.316700</td>\n",
       "      <td>100.890000</td>\n",
       "      <td>100.000000</td>\n",
       "      <td>100.000000</td>\n",
       "      <td>42.570000</td>\n",
       "      <td>1.635092e+09</td>\n",
       "    </tr>\n",
       "  </tbody>\n",
       "</table>\n",
       "</div>"
      ],
      "text/plain": [
       "              Lat         Lng        Temp    Humidity  Cloudiness  Wind Speed  \\\n",
       "count  577.000000  577.000000  577.000000  577.000000  577.000000  577.000000   \n",
       "mean    20.222196   16.028923   60.935130   70.901213   56.440208    7.593917   \n",
       "std     32.510438   90.687453   22.132346   20.113280   38.031287    5.670216   \n",
       "min    -54.800000 -179.166700  -11.470000    9.000000    0.000000    0.000000   \n",
       "25%     -4.276100  -66.895800   47.160000   61.000000   18.000000    3.510000   \n",
       "50%     22.285500   20.040300   65.440000   74.000000   68.000000    6.330000   \n",
       "75%     47.599900   96.128500   78.870000   86.000000   95.000000   10.180000   \n",
       "max     78.218600  179.316700  100.890000  100.000000  100.000000   42.570000   \n",
       "\n",
       "               Date  \n",
       "count  5.770000e+02  \n",
       "mean   1.635092e+09  \n",
       "std    9.067143e+01  \n",
       "min    1.635091e+09  \n",
       "25%    1.635091e+09  \n",
       "50%    1.635092e+09  \n",
       "75%    1.635092e+09  \n",
       "max    1.635092e+09  "
      ]
     },
     "execution_count": 35,
     "metadata": {},
     "output_type": "execute_result"
    }
   ],
   "source": [
    "weather_all.describe()"
   ]
  },
  {
   "cell_type": "markdown",
   "metadata": {},
   "source": [
    "## Inspect the data and remove the cities where the humidity > 100%.\n",
    "----\n",
    "Skip this step if there are no cities that have humidity > 100%. "
   ]
  },
  {
   "cell_type": "code",
   "execution_count": 26,
   "metadata": {},
   "outputs": [
    {
     "data": {
      "text/html": [
       "<div>\n",
       "<style scoped>\n",
       "    .dataframe tbody tr th:only-of-type {\n",
       "        vertical-align: middle;\n",
       "    }\n",
       "\n",
       "    .dataframe tbody tr th {\n",
       "        vertical-align: top;\n",
       "    }\n",
       "\n",
       "    .dataframe thead th {\n",
       "        text-align: right;\n",
       "    }\n",
       "</style>\n",
       "<table border=\"1\" class=\"dataframe\">\n",
       "  <thead>\n",
       "    <tr style=\"text-align: right;\">\n",
       "      <th></th>\n",
       "      <th>City</th>\n",
       "      <th>Lat</th>\n",
       "      <th>Lng</th>\n",
       "      <th>Temp</th>\n",
       "      <th>Humidity</th>\n",
       "      <th>Cloudiness</th>\n",
       "      <th>Wind Speed</th>\n",
       "      <th>Country</th>\n",
       "      <th>Date</th>\n",
       "    </tr>\n",
       "  </thead>\n",
       "  <tbody>\n",
       "  </tbody>\n",
       "</table>\n",
       "</div>"
      ],
      "text/plain": [
       "Empty DataFrame\n",
       "Columns: [City, Lat, Lng, Temp, Humidity, Cloudiness, Wind Speed, Country, Date]\n",
       "Index: []"
      ]
     },
     "execution_count": 26,
     "metadata": {},
     "output_type": "execute_result"
    }
   ],
   "source": [
    "weather_all.loc[weather_all['Humidity'] > 100]"
   ]
  },
  {
   "cell_type": "markdown",
   "metadata": {},
   "source": [
    "## Plotting the Data\n",
    "* Use proper labeling of the plots using plot titles (including date of analysis) and axes labels.\n",
    "* Save the plotted figures as .pngs."
   ]
  },
  {
   "cell_type": "markdown",
   "metadata": {},
   "source": [
    "## Latitude vs. Temperature Plot"
   ]
  },
  {
   "cell_type": "code",
   "execution_count": 37,
   "metadata": {
    "scrolled": true
   },
   "outputs": [
    {
     "data": {
      "text/plain": [
       "Text(0, 0.5, 'Temperature')"
      ]
     },
     "execution_count": 37,
     "metadata": {},
     "output_type": "execute_result"
    },
    {
     "data": {
      "image/png": "[encoded data removed]",
      "text/plain": [
       "<Figure size 432x288 with 1 Axes>"
      ]
     },
     "metadata": {
      "needs_background": "light"
     },
     "output_type": "display_data"
    }
   ],
   "source": [
    "plt.scatter(weather_all['Lat'], weather_all['Temp'], marker=\"o\", facecolors=\"lightgreen\", edgecolors=\"black\")\n",
    "plt.title(\"Latitute vs. Temperature\")\n",
    "plt.xlabel(\"Latitutde\")\n",
    "plt.ylabel(\"Temperature\")\n",
    "\n"
   ]
  },
  {
   "cell_type": "markdown",
   "metadata": {},
   "source": [
    "## Latitude vs. Humidity Plot"
   ]
  },
  {
   "cell_type": "code",
   "execution_count": 38,
   "metadata": {},
   "outputs": [
    {
     "data": {
      "text/plain": [
       "Text(0, 0.5, 'Humidity')"
      ]
     },
     "execution_count": 38,
     "metadata": {},
     "output_type": "execute_result"
    },
    {
     "data": {
      "image/png": "[encoded data removed]",
      "text/plain": [
       "<Figure size 432x288 with 1 Axes>"
      ]
     },
     "metadata": {
      "needs_background": "light"
     },
     "output_type": "display_data"
    }
   ],
   "source": [
    "plt.scatter(weather_all['Lat'], weather_all['Humidity'], marker=\"o\", facecolors=\"purple\", edgecolors=\"grey\")\n",
    "plt.title(\"Latitute vs. Humidity\")\n",
    "plt.xlabel(\"Latitude\")\n",
    "plt.ylabel(\"Humidity\")"
   ]
  },
  {
   "cell_type": "markdown",
   "metadata": {},
   "source": [
    "## Latitude vs. Cloudiness Plot"
   ]
  },
  {
   "cell_type": "code",
   "execution_count": 39,
   "metadata": {},
   "outputs": [
    {
     "data": {
      "text/plain": [
       "Text(0, 0.5, 'Cloudiness')"
      ]
     },
     "execution_count": 39,
     "metadata": {},
     "output_type": "execute_result"
    },
    {
     "data": {
      "image/png": "[encoded data removed]",
      "text/plain": [
       "<Figure size 432x288 with 1 Axes>"
      ]
     },
     "metadata": {
      "needs_background": "light"
     },
     "output_type": "display_data"
    }
   ],
   "source": [
    "plt.scatter(weather_all['Lat'], weather_all['Cloudiness'], marker=\"o\", facecolors=\"cornflowerblue\", edgecolors=\"black\")\n",
    "plt.title(\"Latitute vs. Cloudiness\")\n",
    "plt.xlabel(\"Latitude\")\n",
    "plt.ylabel(\"Cloudiness\")"
   ]
  },
  {
   "cell_type": "markdown",
   "metadata": {},
   "source": [
    "## Latitude vs. Wind Speed Plot"
   ]
  },
  {
   "cell_type": "code",
   "execution_count": 40,
   "metadata": {},
   "outputs": [
    {
     "data": {
      "text/plain": [
       "Text(0, 0.5, 'Wind Speed')"
      ]
     },
     "execution_count": 40,
     "metadata": {},
     "output_type": "execute_result"
    },
    {
     "data": {
      "image/png": "[encoded data removed]",
      "text/plain": [
       "<Figure size 432x288 with 1 Axes>"
      ]
     },
     "metadata": {
      "needs_background": "light"
     },
     "output_type": "display_data"
    }
   ],
   "source": [
    "plt.scatter(weather_all['Lat'], weather_all['Wind Speed'], marker=\"o\", facecolors=\"blue\", edgecolors=\"grey\")\n",
    "plt.title(\"Latitute vs. Wind Speed\")\n",
    "plt.xlabel(\"Latitude\")\n",
    "plt.ylabel(\"Wind Speed\")"
   ]
  },
  {
   "cell_type": "markdown",
   "metadata": {},
   "source": [
    "### Observable Trends"
   ]
  },
  {
   "cell_type": "markdown",
   "metadata": {},
   "source": [
    "* As expected, cities with latitudes closer to 0 have higher temperatures compared to those who are further from 0. \n",
    "* There is not a strong correlation between latitude and wind speed or cloudiness.\n",
    "* Humidity appears to be the lowest nearest to the equator."
   ]
  },
  {
   "cell_type": "markdown",
   "metadata": {},
   "source": [
    "## Linear Regression"
   ]
  },
  {
   "cell_type": "code",
   "execution_count": 41,
   "metadata": {},
   "outputs": [],
   "source": [
    "#define hemispheres\n",
    "northhem_df = weather_all.loc[(weather_all['Lat']>0)]\n",
    "southhem_df = weather_all.loc[(weather_all['Lat'] < 0)]"
   ]
  },
  {
   "cell_type": "markdown",
   "metadata": {},
   "source": [
    "####  Northern Hemisphere -  Temp vs. Latitude Linear Regression"
   ]
  },
  {
   "cell_type": "code",
   "execution_count": 42,
   "metadata": {},
   "outputs": [
    {
     "name": "stdout",
     "output_type": "stream",
     "text": [
      "Regression line equation is: y = -1.03x + 95.09.\n",
      "The r-squared is: -0.8890852788455399\n"
     ]
    },
    {
     "data": {
      "image/png": "[encoded data removed]",
      "text/plain": [
       "<Figure size 432x288 with 1 Axes>"
      ]
     },
     "metadata": {
      "needs_background": "light"
     },
     "output_type": "display_data"
    }
   ],
   "source": [
    "x = northhem_df['Lat']\n",
    "y = northhem_df['Temp']\n",
    "\n",
    "slope, intercept, r_value, p_value, stderr = linregress(x, y)\n",
    "m_fit = x * slope + intercept\n",
    "line_eq = \"y = \" + str(round(slope,2)) + \"x + \" + str(round(intercept,2))\n",
    "\n",
    "print(f\"Regression line equation is: {line_eq}.\")\n",
    "print(f\"The r-squared is: {r_value}\")\n",
    "\n",
    "plt.scatter(x,y)\n",
    "plt.plot(x, m_fit,\"--\")\n",
    "plt.annotate(line_eq, (1, 30),fontsize=15, color =\"red\")\n",
    "plt.xlabel('Latitude')\n",
    "plt.ylabel('Max Temp')\n",
    "plt.show()"
   ]
  },
  {
   "cell_type": "markdown",
   "metadata": {},
   "source": [
    "####  Southern Hemisphere - Temp vs. Latitude Linear Regression"
   ]
  },
  {
   "cell_type": "code",
   "execution_count": 43,
   "metadata": {},
   "outputs": [
    {
     "name": "stdout",
     "output_type": "stream",
     "text": [
      "Regression line equation is: y = 0.69x + 85.61.\n",
      "The r-squared is: 0.7547258746737319\n"
     ]
    },
    {
     "data": {
      "image/png": "[encoded data removed]",
      "text/plain": [
       "<Figure size 432x288 with 1 Axes>"
      ]
     },
     "metadata": {
      "needs_background": "light"
     },
     "output_type": "display_data"
    }
   ],
   "source": [
    "x = southhem_df['Lat']\n",
    "y = southhem_df['Temp']\n",
    "\n",
    "slope, intercept, r_value, p_value, stderr = linregress(x, y)\n",
    "m_fit = x * slope + intercept\n",
    "line_eq = \"y = \" + str(round(slope,2)) + \"x + \" + str(round(intercept,2))\n",
    "\n",
    "print(f\"Regression line equation is: {line_eq}.\")\n",
    "print(f\"The r-squared is: {r_value}\")\n",
    "\n",
    "plt.scatter(x,y)\n",
    "plt.plot(x, m_fit,\"--\")\n",
    "plt.annotate(line_eq, (1, 30),fontsize=15, color =\"red\")\n",
    "plt.xlabel('Latitude')\n",
    "plt.ylabel('Max Temp')\n",
    "plt.show()"
   ]
  },
  {
   "cell_type": "markdown",
   "metadata": {},
   "source": [
    "#### Observable Trend\n",
    "\n",
    "* There is a strong correlation bewteen temperature and latitude. As the latitude increases and decreases, the temperature decreases. Because the hottest point is at the equator and the equator is at 0 latitude, we can confirm this correlation."
   ]
  },
  {
   "cell_type": "markdown",
   "metadata": {},
   "source": [
    "####  Northern Hemisphere - Humidity (%) vs. Latitude Linear Regression"
   ]
  },
  {
   "cell_type": "code",
   "execution_count": 17,
   "metadata": {},
   "outputs": [
    {
     "name": "stdout",
     "output_type": "stream",
     "text": [
      "Regression line equation is: y = 0.25x + 62.82.\n",
      "The r-squared is: 0.26253422434465973\n"
     ]
    },
    {
     "data": {
      "image/png": "[encoded data removed]",
      "text/plain": [
       "<Figure size 432x288 with 1 Axes>"
      ]
     },
     "metadata": {
      "needs_background": "light"
     },
     "output_type": "display_data"
    }
   ],
   "source": [
    "x = northhem_df['Lat']\n",
    "y = northhem_df['Humidity']\n",
    "\n",
    "slope, intercept, r_value, p_value, stderr = linregress(x, y)\n",
    "m_fit = x * slope + intercept\n",
    "line_eq = \"y = \" + str(round(slope,2)) + \"x + \" + str(round(intercept,2))\n",
    "\n",
    "print(f\"Regression line equation is: {line_eq}.\")\n",
    "print(f\"The r-squared is: {r_value}\")\n",
    "\n",
    "plt.scatter(x,y)\n",
    "plt.plot(x, m_fit,\"--\")\n",
    "plt.annotate(line_eq, (1, 30),fontsize=15, color =\"red\")\n",
    "plt.xlabel('Latitude')\n",
    "plt.ylabel('Humidity')\n",
    "plt.show()"
   ]
  },
  {
   "cell_type": "markdown",
   "metadata": {},
   "source": [
    "####  Southern Hemisphere - Humidity (%) vs. Latitude Linear Regression"
   ]
  },
  {
   "cell_type": "code",
   "execution_count": 18,
   "metadata": {},
   "outputs": [
    {
     "name": "stdout",
     "output_type": "stream",
     "text": [
      "Regression line equation is: y = 0.14x + 70.75.\n",
      "The r-squared is: 0.08910007381740313\n"
     ]
    },
    {
     "data": {
      "image/png": "[encoded data removed]",
      "text/plain": [
       "<Figure size 432x288 with 1 Axes>"
      ]
     },
     "metadata": {
      "needs_background": "light"
     },
     "output_type": "display_data"
    }
   ],
   "source": [
    "x = southhem_df['Lat']\n",
    "y = southhem_df['Humidity']\n",
    "\n",
    "slope, intercept, r_value, p_value, stderr = linregress(x, y)\n",
    "m_fit = x * slope + intercept\n",
    "line_eq = \"y = \" + str(round(slope,2)) + \"x + \" + str(round(intercept,2))\n",
    "\n",
    "print(f\"Regression line equation is: {line_eq}.\")\n",
    "print(f\"The r-squared is: {r_value}\")\n",
    "\n",
    "plt.scatter(x,y)\n",
    "plt.plot(x, m_fit,\"--\")\n",
    "plt.annotate(line_eq, (1, 30),fontsize=15, color =\"red\")\n",
    "plt.xlabel('Latitude')\n",
    "plt.ylabel('Humidity')\n",
    "plt.show()"
   ]
  },
  {
   "cell_type": "markdown",
   "metadata": {},
   "source": [
    "#### Observable Trend\n",
    "* There is not a strong correlation between latitude and humidity. However, the lowest humidities appear to be closer to the equator. "
   ]
  },
  {
   "cell_type": "markdown",
   "metadata": {},
   "source": [
    "####  Northern Hemisphere - Cloudiness (%) vs. Latitude Linear Regression"
   ]
  },
  {
   "cell_type": "code",
   "execution_count": 19,
   "metadata": {},
   "outputs": [
    {
     "name": "stdout",
     "output_type": "stream",
     "text": [
      "Regression line equation is: y = 0.22x + 48.11.\n",
      "The r-squared is: 0.11560498637008297\n"
     ]
    },
    {
     "data": {
      "image/png": "[encoded data removed]",
      "text/plain": [
       "<Figure size 432x288 with 1 Axes>"
      ]
     },
     "metadata": {
      "needs_background": "light"
     },
     "output_type": "display_data"
    }
   ],
   "source": [
    "x = northhem_df['Lat']\n",
    "y = northhem_df['Cloudiness']\n",
    "\n",
    "slope, intercept, r_value, p_value, stderr = linregress(x, y)\n",
    "m_fit = x * slope + intercept\n",
    "line_eq = \"y = \" + str(round(slope,2)) + \"x + \" + str(round(intercept,2))\n",
    "\n",
    "print(f\"Regression line equation is: {line_eq}.\")\n",
    "print(f\"The r-squared is: {r_value}\")\n",
    "\n",
    "plt.scatter(x,y)\n",
    "plt.plot(x, m_fit,\"--\")\n",
    "plt.annotate(line_eq, (1, 30),fontsize=15, color =\"red\")\n",
    "plt.xlabel('Latitude')\n",
    "plt.ylabel('Cloudiness')\n",
    "plt.show()"
   ]
  },
  {
   "cell_type": "markdown",
   "metadata": {},
   "source": [
    "####  Southern Hemisphere - Cloudiness (%) vs. Latitude Linear Regression"
   ]
  },
  {
   "cell_type": "code",
   "execution_count": 20,
   "metadata": {},
   "outputs": [
    {
     "name": "stdout",
     "output_type": "stream",
     "text": [
      "Regression line equation is: y = 0.14x + 70.75.\n",
      "The r-squared is: 0.08910007381740313\n"
     ]
    },
    {
     "data": {
      "image/png": "[encoded data removed]",
      "text/plain": [
       "<Figure size 432x288 with 1 Axes>"
      ]
     },
     "metadata": {
      "needs_background": "light"
     },
     "output_type": "display_data"
    }
   ],
   "source": [
    "x = southhem_df['Lat']\n",
    "y = southhem_df['Humidity']\n",
    "\n",
    "slope, intercept, r_value, p_value, stderr = linregress(x, y)\n",
    "m_fit = x * slope + intercept\n",
    "line_eq = \"y = \" + str(round(slope,2)) + \"x + \" + str(round(intercept,2))\n",
    "\n",
    "print(f\"Regression line equation is: {line_eq}.\")\n",
    "print(f\"The r-squared is: {r_value}\")\n",
    "\n",
    "plt.scatter(x,y)\n",
    "plt.plot(x, m_fit,\"--\")\n",
    "plt.annotate(line_eq, (1, 30),fontsize=15, color =\"red\")\n",
    "plt.xlabel('Latitude')\n",
    "plt.ylabel('Cloudiness')\n",
    "plt.show()"
   ]
  },
  {
   "cell_type": "markdown",
   "metadata": {},
   "source": [
    "#### Observable Trend\n",
    "\n",
    "* There is no clear correlation between cloudiness and latitude. "
   ]
  },
  {
   "cell_type": "markdown",
   "metadata": {},
   "source": [
    "####  Northern Hemisphere - Wind Speed (mph) vs. Latitude Linear Regression"
   ]
  },
  {
   "cell_type": "code",
   "execution_count": 21,
   "metadata": {},
   "outputs": [
    {
     "name": "stdout",
     "output_type": "stream",
     "text": [
      "Regression line equation is: y = 0.03x + 6.11.\n",
      "The r-squared is: 0.10817093465603683\n"
     ]
    },
    {
     "data": {
      "image/png": "[encoded data removed]",
      "text/plain": [
       "<Figure size 432x288 with 1 Axes>"
      ]
     },
     "metadata": {
      "needs_background": "light"
     },
     "output_type": "display_data"
    }
   ],
   "source": [
    "x = northhem_df['Lat']\n",
    "y = northhem_df['Wind Speed']\n",
    "\n",
    "slope, intercept, r_value, p_value, stderr = linregress(x, y)\n",
    "m_fit = x * slope + intercept\n",
    "line_eq = \"y = \" + str(round(slope,2)) + \"x + \" + str(round(intercept,2))\n",
    "\n",
    "print(f\"Regression line equation is: {line_eq}.\")\n",
    "print(f\"The r-squared is: {r_value}\")\n",
    "\n",
    "plt.scatter(x,y)\n",
    "plt.plot(x, m_fit,\"--\")\n",
    "plt.annotate(line_eq, (1,10),fontsize=15, color =\"red\")\n",
    "plt.xlabel('Latitude')\n",
    "plt.ylabel('Wind Speed')\n",
    "plt.show()"
   ]
  },
  {
   "cell_type": "markdown",
   "metadata": {},
   "source": [
    "####  Southern Hemisphere - Wind Speed (mph) vs. Latitude Linear Regression"
   ]
  },
  {
   "cell_type": "code",
   "execution_count": 22,
   "metadata": {},
   "outputs": [
    {
     "name": "stdout",
     "output_type": "stream",
     "text": [
      "Regression line equation is: y = -0.16x + 5.36.\n",
      "The r-squared is: -0.33725357376451687\n"
     ]
    },
    {
     "data": {
      "image/png": "[encoded data removed]",
      "text/plain": [
       "<Figure size 432x288 with 1 Axes>"
      ]
     },
     "metadata": {
      "needs_background": "light"
     },
     "output_type": "display_data"
    }
   ],
   "source": [
    "x = southhem_df['Lat']\n",
    "y = southhem_df['Wind Speed']\n",
    "\n",
    "slope, intercept, r_value, p_value, stderr = linregress(x, y)\n",
    "m_fit = x * slope + intercept\n",
    "line_eq = \"y = \" + str(round(slope,2)) + \"x + \" + str(round(intercept,2))\n",
    "\n",
    "print(f\"Regression line equation is: {line_eq}.\")\n",
    "print(f\"The r-squared is: {r_value}\")\n",
    "\n",
    "plt.scatter(x,y)\n",
    "plt.plot(x, m_fit,\"--\")\n",
    "plt.annotate(line_eq, (0, 10),fontsize=15, color =\"red\")\n",
    "plt.xlabel('Latitude')\n",
    "plt.ylabel('Wind Speed')\n",
    "plt.show()"
   ]
  },
  {
   "cell_type": "markdown",
   "metadata": {},
   "source": [
    "#### Observable Trend\n",
    "* There is no correlation between wind speed and latitude in the northern hempisphere. However, most cities seem to have similar wind speeds.\n",
    "* There is a weak correlation between latitude and wind speed in the southern hemisphere with a cluster of cities closer to 0 having little to no winds. "
   ]
  },
  {
   "cell_type": "code",
   "execution_count": 45,
   "metadata": {},
   "outputs": [],
   "source": [
    "weather_all.to_csv(\"weather_all.csv\", encoding='utf-8', index=False)"
   ]
  },
  {
   "cell_type": "code",
   "execution_count": null,
   "metadata": {},
   "outputs": [],
   "source": []
  }
 ],
 "metadata": {
  "anaconda-cloud": {},
  "kernel_info": {
   "name": "python3"
  },
  "kernelspec": {
   "display_name": "Python 3",
   "language": "python",
   "name": "python3"
  },
  "language_info": {
   "codemirror_mode": {
    "name": "ipython",
    "version": 3
   },
   "file_extension": ".py",
   "mimetype": "text/x-python",
   "name": "python",
   "nbconvert_exporter": "python",
   "pygments_lexer": "ipython3",
   "version": "3.8.8"
  },
  "latex_envs": {
   "LaTeX_envs_menu_present": true,
   "autoclose": false,
   "autocomplete": true,
   "bibliofile": "biblio.bib",
   "cite_by": "apalike",
   "current_citInitial": 1,
   "eqLabelWithNumbers": true,
   "eqNumInitial": 1,
   "hotkeys": {
    "equation": "Ctrl-E",
    "itemize": "Ctrl-I"
   },
   "labels_anchors": false,
   "latex_user_defs": false,
   "report_style_numbering": false,
   "user_envs_cfg": false
  },
  "nteract": {
   "version": "0.12.3"
  }
 },
 "nbformat": 4,
 "nbformat_minor": 2
}
